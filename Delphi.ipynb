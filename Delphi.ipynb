{
 "cells": [
  {
   "cell_type": "code",
   "execution_count": null,
   "metadata": {},
   "outputs": [],
   "source": [
    "dir()"
   ]
  },
  {
   "cell_type": "code",
   "execution_count": null,
   "metadata": {},
   "outputs": [],
   "source": [
    "from delphifmx import *\n",
    "dir()[0:49]"
   ]
  },
  {
   "cell_type": "code",
   "execution_count": null,
   "metadata": {},
   "outputs": [],
   "source": [
    "CreateComponent"
   ]
  },
  {
   "cell_type": "code",
   "execution_count": null,
   "metadata": {},
   "outputs": [],
   "source": [
    "from delphifmx import *\n",
    "\n",
    "Application.Initialize()\n",
    "Application.Title = \"Hello DelphiFMX\"\n",
    "window = Form(Application)\n",
    "Application.MainForm = window\n",
    "window.SetProps(Caption = \"Welcome\")\n",
    "window.Show()\n",
    "Application.Run() # This is the GUI interaction main loop\n",
    "window.Destroy()"
   ]
  },
  {
   "cell_type": "code",
   "execution_count": 1,
   "metadata": {},
   "outputs": [],
   "source": [
    "from delphifmx import *\n",
    "\n",
    "class GUIApp(Form):\n",
    "    def __init__(self, owner):\n",
    "        self.SetProps(Caption = \"Welcome\")\n",
    "        self.lblHello = Label(self)\n",
    "        self.lblHello.SetProps(\n",
    "            Parent=self,\n",
    "            Text=\"DelphiFMX4Python\")\n",
    "\n",
    "def main():\n",
    "    Application.Initialize()\n",
    "    Application.Title = \"Hello DelphiFMX\"\n",
    "    app = GUIApp(Application)\n",
    "    Application.MainForm = app\n",
    "    app.Show()\n",
    "    Application.Run()\n",
    "    app.Destroy()\n",
    "\n",
    "main()"
   ]
  },
  {
   "cell_type": "code",
   "execution_count": null,
   "metadata": {},
   "outputs": [],
   "source": [
    "from delphifmx import *\n",
    "\n",
    "class TodoApp(Form):\n",
    "    def __init__(self, Owner):\n",
    "        self.Caption = \"A TODO GUI Application\"\n",
    "        self.SetBounds(100, 100, 700, 500)\n",
    "        \n",
    "        self.task_lbl = Label(self)\n",
    "        self.task_lbl.SetProps(Parent=self, Text=\"Enter your TODO task\")\n",
    "        self.task_lbl.SetBounds(10, 10, 150, 25)\n",
    "\n",
    "        self.task_text_box = Edit(self)\n",
    "        self.task_text_box.SetProps(Parent=self)\n",
    "        self.task_text_box.SetBounds(10, 30, 250, 20)\n",
    "\n",
    "        self.add_task_btn = Button(self)\n",
    "        self.add_task_btn.Parent = self\n",
    "        self.add_task_btn.SetBounds(150, 75, 100, 30)\n",
    "        self.add_task_btn.Text = \"Add Task\"\n",
    "        self.add_task_btn.OnClick = self.__add_task_on_click\n",
    "\n",
    "        self.del_task_btn = Button(self)\n",
    "        self.del_task_btn.SetProps(Parent=self, Text=\"Delete Task\")\n",
    "        self.del_task_btn.SetBounds(150, 120, 100, 30)\n",
    "        self.del_task_btn.OnClick = self.__del_task_on_click\n",
    "\n",
    "        self.list_of_tasks = ListBox(self)\n",
    "        self.list_of_tasks.Parent = self\n",
    "        self.list_of_tasks.SetBounds(300, 50, 300, 350)\n",
    "\n",
    "        def __add_task_on_click(self, Sender):\n",
    "            self.list_of_tasks.Items.Add(self.task_text_box.Text)\n",
    "            self.task_text_box.Text = \"\"\n",
    "\n",
    "        def __del_task_on_click(self, Sender):\n",
    "            self.list_of_tasks.Items.Delete(0)\n",
    "\n",
    "def main():\n",
    "    Application.Initialize()\n",
    "    Application.Title = \"TODO App\"\n",
    "    app = TodoApp(Application)\n",
    "    Application.MainForm = app\n",
    "    app.Show()\n",
    "    Application.Run()\n",
    "    app.Destroy()\n",
    "\n",
    "main()"
   ]
  },
  {
   "cell_type": "code",
   "execution_count": 1,
   "metadata": {},
   "outputs": [],
   "source": [
    "from delphifmx import *\n",
    "from os.path import exists\n",
    "\n",
    "class HelloForm(Form):\n",
    "\n",
    "    def __init__(self, owner):\n",
    "        self.SetProps(Caption = \"My To Do List\", OnShow = self.__form_show, OnClose = self.__form_close)\n",
    "\n",
    "        self.hello = Label(self)\n",
    "        self.hello.SetProps(Parent = self, Text = \"Next Do: \", Position = Position(PointF(20, 20)))\n",
    "\n",
    "        self.edit = Edit(self)\n",
    "        self.edit.SetProps(Parent = self, Position = Position(PointF(80,18)))\n",
    "\n",
    "        self.clickme = Button(self)\n",
    "        self.clickme.SetProps(Parent = self, Text = \"Add\", Position = Position(PointF(190, 18)), Width = 80, OnClick = self.__button_click)\n",
    "\n",
    "        self.list = ListBox(self)\n",
    "        self.list.SetProps(Parent = self, Position = Position(PointF(20, 60)), Width = 250, OnClick = self.__list_item_click)\n",
    "\n",
    "    def __list_item_click(self, sender):\n",
    "        if (self.list.itemindex > -1):\n",
    "            self.list.items.delete(self.list.itemindex)\n",
    "\n",
    "    def __form_show(self, sender):\n",
    "        self.SetProps(Width = 300, Height = 320)\n",
    "        if exists(\"todo.txt\"):\n",
    "            self.list.items.loadfromfile(\"todo.txt\")\n",
    "\n",
    "    def __form_close(self, sender, action):\n",
    "        self.list.items.savetofile(\"todo.txt\")\n",
    "        action = \"caFree\"\n",
    "\n",
    "    def __button_click(self, sender):\n",
    "        self.list.items.add(self.edit.text)\n",
    "        self.edit.text = \"\"\n",
    "\n",
    "def main():\n",
    "    Application.Initialize()\n",
    "    Application.Title = \"Hello Delphi FMX\"\n",
    "    Application.MainForm = HelloForm(Application)\n",
    "    Application.MainForm.Show()\n",
    "    Application.Run()\n",
    "    Application.MainForm.Destroy()\n",
    "\n",
    "if __name__ == '__main__':\n",
    "    main()"
   ]
  }
 ],
 "metadata": {
  "kernelspec": {
   "display_name": "Python 3.8.1 64-bit",
   "language": "python",
   "name": "python3"
  },
  "language_info": {
   "codemirror_mode": {
    "name": "ipython",
    "version": 3
   },
   "file_extension": ".py",
   "mimetype": "text/x-python",
   "name": "python",
   "nbconvert_exporter": "python",
   "pygments_lexer": "ipython3",
   "version": "3.8.1"
  },
  "orig_nbformat": 4,
  "vscode": {
   "interpreter": {
    "hash": "570feb405e2e27c949193ac68f46852414290d515b0ba6e5d90d076ed2284471"
   }
  }
 },
 "nbformat": 4,
 "nbformat_minor": 2
}
