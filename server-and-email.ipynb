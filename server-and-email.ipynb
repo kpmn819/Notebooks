{
 "cells": [
  {
   "cell_type": "code",
   "execution_count": 12,
   "metadata": {},
   "outputs": [
    {
     "data": {
      "text/plain": [
       "0"
      ]
     },
     "execution_count": 12,
     "metadata": {},
     "output_type": "execute_result"
    }
   ],
   "source": [
    "# need to send as console output\n",
    "import os\n",
    "msg = 'this is another new message'\n",
    "email = 'frobozzindustries@yahoo.com'\n",
    "subject = 'Subject: And this finishes it'\n",
    "os.system('echo ' + msg + ' | mailx -s \"Subject: This is a test\" '+ ' ' + email)"
   ]
  },
  {
   "cell_type": "code",
   "execution_count": null,
   "metadata": {},
   "outputs": [],
   "source": [
    "import os\n",
    "os.system('/home/pi/game_web/game/manage.py runserver')"
   ]
  },
  {
   "cell_type": "code",
   "execution_count": 18,
   "metadata": {},
   "outputs": [
    {
     "data": {
      "text/plain": [
       "0"
      ]
     },
     "execution_count": 18,
     "metadata": {},
     "output_type": "execute_result"
    }
   ],
   "source": [
    "# need to send as console output\n",
    "import os\n",
    "msg = 'this is another new message'\n",
    "email = 'frobozzindustries@yahoo.com'\n",
    "subject = '\"Subject: So this finishes it\"'\n",
    "os.system('echo ' + msg + ' | mailx -s '+ subject + ' ' + email)"
   ]
  }
 ],
 "metadata": {
  "kernelspec": {
   "display_name": "Python 3.8.1 64-bit",
   "language": "python",
   "name": "python3"
  },
  "language_info": {
   "codemirror_mode": {
    "name": "ipython",
    "version": 3
   },
   "file_extension": ".py",
   "mimetype": "text/x-python",
   "name": "python",
   "nbconvert_exporter": "python",
   "pygments_lexer": "ipython3",
   "version": "3.8.1"
  },
  "orig_nbformat": 4,
  "vscode": {
   "interpreter": {
    "hash": "570feb405e2e27c949193ac68f46852414290d515b0ba6e5d90d076ed2284471"
   }
  }
 },
 "nbformat": 4,
 "nbformat_minor": 2
}
