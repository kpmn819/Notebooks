{
 "cells": [
  {
   "cell_type": "code",
   "execution_count": null,
   "metadata": {},
   "outputs": [],
   "source": [
    "# Starts the server but does not come back\n",
    "import os\n",
    "os.system('/home/pi/game_web/game/manage.py runserver')"
   ]
  },
  {
   "cell_type": "code",
   "execution_count": 3,
   "metadata": {},
   "outputs": [
    {
     "name": "stdout",
     "output_type": "stream",
     "text": [
      "Server it runs\n"
     ]
    }
   ],
   "source": [
    "# This works! And it comes back immediatly\n",
    "import os\n",
    "import subprocess\n",
    "import multiprocessing\n",
    "\n",
    "\n",
    "def task():\n",
    "    os.system('/home/pi/game_web/game/manage.py runserver')\n",
    "    \n",
    "process = multiprocessing.Process(target = task)\n",
    "process.start()\n",
    "    \n",
    "#try_sub()\n",
    "print('Server it runs')"
   ]
  },
  {
   "cell_type": "code",
   "execution_count": null,
   "metadata": {},
   "outputs": [],
   "source": [
    "# This will kill the port but you have to restart the kernal first\n",
    "# then you can restart the server\n",
    "import os\n",
    "os.system('sudo fuser -k 8000/tcp')"
   ]
  },
  {
   "cell_type": "code",
   "execution_count": null,
   "metadata": {},
   "outputs": [],
   "source": [
    "os.environ.setdefault(\"DJANGO_SETTINGS_MODULE\", \"server.settings\")\n",
    "\n",
    "from django.core.management import call_command\n",
    "from django.core.wsgi import get_wsgi_application \n",
    "application = get_wsgi_application()\n",
    "call_command('runserver',  '127.0.0.1:8000')\n",
    "print('Server is running')"
   ]
  },
  {
   "cell_type": "code",
   "execution_count": null,
   "metadata": {},
   "outputs": [],
   "source": [
    "import os\n",
    "if __name__ == \"__main__\":\n",
    "    os.environ.setdefault(\"DJANGO_SETTINGS_MODULE\", \"server.settings\")\n",
    "    from django.core.management import execute_from_command_line\n",
    "    args = ['game_code', 'runserver', '127.0.0.1:8000']\n",
    "    execute_from_command_line(args)"
   ]
  },
  {
   "cell_type": "code",
   "execution_count": 3,
   "metadata": {},
   "outputs": [
    {
     "name": "stdout",
     "output_type": "stream",
     "text": [
      "4.1\n"
     ]
    }
   ],
   "source": [
    "import django\n",
    "print(django.__version__)"
   ]
  },
  {
   "cell_type": "markdown",
   "metadata": {},
   "source": [
    "# Email"
   ]
  },
  {
   "cell_type": "code",
   "execution_count": 18,
   "metadata": {},
   "outputs": [
    {
     "data": {
      "text/plain": [
       "0"
      ]
     },
     "execution_count": 18,
     "metadata": {},
     "output_type": "execute_result"
    }
   ],
   "source": [
    "# need to send as console output\n",
    "import os\n",
    "msg = 'this is another new message'\n",
    "email = 'frobozzindustries@yahoo.com'\n",
    "subject = '\"Subject: So this finishes it\"'\n",
    "os.system('echo ' + msg + ' | mailx -s '+ subject + ' ' + email)"
   ]
  },
  {
   "cell_type": "code",
   "execution_count": 12,
   "metadata": {},
   "outputs": [
    {
     "data": {
      "text/plain": [
       "0"
      ]
     },
     "execution_count": 12,
     "metadata": {},
     "output_type": "execute_result"
    }
   ],
   "source": [
    "# need to send as console output\n",
    "import os\n",
    "msg = 'this is another new message'\n",
    "email = 'frobozzindustries@yahoo.com'\n",
    "subject = 'Subject: And this finishes it'\n",
    "os.system('echo ' + msg + ' | mailx -s \"Subject: This is a test\" '+ ' ' + email)"
   ]
  }
 ],
 "metadata": {
  "kernelspec": {
   "display_name": "Python 3.8.1 64-bit",
   "language": "python",
   "name": "python3"
  },
  "language_info": {
   "codemirror_mode": {
    "name": "ipython",
    "version": 3
   },
   "file_extension": ".py",
   "mimetype": "text/x-python",
   "name": "python",
   "nbconvert_exporter": "python",
   "pygments_lexer": "ipython3",
   "version": "3.8.1"
  },
  "orig_nbformat": 4,
  "vscode": {
   "interpreter": {
    "hash": "570feb405e2e27c949193ac68f46852414290d515b0ba6e5d90d076ed2284471"
   }
  }
 },
 "nbformat": 4,
 "nbformat_minor": 2
}
