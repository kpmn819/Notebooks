{
 "cells": [
  {
   "cell_type": "code",
   "execution_count": null,
   "metadata": {},
   "outputs": [],
   "source": [
    "#!/usr/bin/env python3\n",
    "\n",
    "# Basic program structure outline\n",
    "\n",
    "# --------------\n",
    "# IMPORT STATEMENTS\n",
    "import os\n",
    "\n",
    "# ^^^^^^^^^^^^^^\n",
    "\n",
    "#---------------\n",
    "# GLOBAL VARIABLES\n",
    "#^^^^^^^^^^^^^^^\n",
    "\n",
    "#---------------\n",
    "# CLASS DELCARATIONS\n",
    "#^^^^^^^^^^^^^^^^\n",
    "\n",
    "#****************** MAIN CODE GOES HERE ******************************\n",
    "\n",
    "\n",
    "#^^^^^^^^^^^^^^^^^^ END MAIN CODE ^^^^^^^^^^^^^^^^^^^^^^^^^^^^^^^^^^^^^\n",
    "\n",
    "#*************** INITIALIZE CODE ********************\n",
    "def init():\n",
    "        # Some run once code can go here\n",
    "        global r_pi\n",
    "        # see if running on windows or raspberry pi\n",
    "        if os.name == 'nt':\n",
    "            r_pi = False\n",
    "        \n",
    "        else:\n",
    "            r_pi = True\n",
    "            import RPi.GPIO as GPIO\n",
    "            GPIO.setmode(GPIO.BCM)\n",
    "            pass\n",
    "# ^^^^^^^^^^^^^^ END INITIALIZE ^^^^^^^^^^^^^^^^^^\n",
    "\n",
    "# <<<<<<<<<< MAIN LOOP >>>>>>>>>>>\n",
    "def main():\n",
    "    \n",
    "    try:\n",
    "        init()\n",
    "        while 1 == 1:\n",
    "            try:\n",
    "                pass\n",
    "            except SomeError:\n",
    "                continue\n",
    "\n",
    "        \n",
    "    except KeyboardInterrupt:\n",
    "        #cleanup at end of program\n",
    "        print('   Shutdown')\n",
    "        if r_pi:\n",
    "            GPIO.cleanup()\n",
    "\n",
    "if __name__ == '__main__':\n",
    "    main()\n"
   ]
  },
  {
   "cell_type": "code",
   "execution_count": null,
   "metadata": {},
   "outputs": [],
   "source": [
    "import pygame\n",
    "from pygame.locals import *\n",
    "import os\n",
    "\n",
    "# ======== pygame setup ===========\n",
    "pygame.init()\n",
    "pygame.mixer.init()\n",
    "pygame.mixer.music.set_volume(1.0)\n",
    "os.environ['SDL_VIDEO_CENTERED'] = '1'\n",
    "clock = pygame.time.Clock()\n",
    "screen_width = 1920\n",
    "screen_height = 1080\n",
    "bgColor = (0,0,0)\n",
    "size = (screen_width, screen_height)\n",
    "global display\n",
    "#display = pygame.display.set_mode((0,0), pygame.FULLSCREEN)\n",
    "display = pygame.display.set_mode((1920,1080))\n",
    "# ^^^^^^^^^^^^ end pygame setup ^^^^^^^^^^^"
   ]
  }
 ],
 "metadata": {
  "kernelspec": {
   "display_name": "Python 3.8.1 64-bit",
   "language": "python",
   "name": "python3"
  },
  "language_info": {
   "name": "python",
   "version": "3.8.1"
  },
  "orig_nbformat": 4,
  "vscode": {
   "interpreter": {
    "hash": "570feb405e2e27c949193ac68f46852414290d515b0ba6e5d90d076ed2284471"
   }
  }
 },
 "nbformat": 4,
 "nbformat_minor": 2
}
