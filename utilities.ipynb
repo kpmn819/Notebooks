{
 "cells": [
  {
   "cell_type": "code",
   "execution_count": null,
   "metadata": {},
   "outputs": [],
   "source": [
    " #///////////// ENUMERATE EXAMPLE ///////////////////\n",
    "users = [\"Test User\", \"Real User 1\", \"Real User 2\"]\n",
    "for index, user in enumerate(users):\n",
    "    if index == 0:\n",
    "        print(\"Extra verbose output for:\", user)\n",
    "    print(user)\n",
    "# \\\\\\\\\\\\\\\\\\\\\\\\\\ ENUMERATE EXAMPLE \\\\\\\\\\\\\\\\\\\\\\\\\\\\\\\\\\\\"
   ]
  },
  {
   "cell_type": "code",
   "execution_count": null,
   "metadata": {},
   "outputs": [],
   "source": [
    "#///////////////// CSV FILE READER /////////////////\n",
    "def get_file(list_file, col_count):\n",
    "    # now a more generic reader that can take any number of columns\n",
    "    global row_count\n",
    "    global file_error\n",
    "    try:\n",
    "        ''' call with file and get back list of lists'''\n",
    "        with open(list_file) as csv_file:\n",
    "            csv_reader = csv.reader(csv_file, delimiter=',')\n",
    "            rowlist = []\n",
    "            cvs_list = []\n",
    "            line_count = 0\n",
    "            for row in csv_reader:\n",
    "                if line_count > 0:\n",
    "                    # avoids the header line\n",
    "                    rowlist = [row[0]] # initalizes the list first item\n",
    "                    if col_count > 1:\n",
    "                        for x in range(1,col_count):\n",
    "                            rowlist.append(row[x])\n",
    "                        \n",
    "                    cvs_list.append(rowlist)\n",
    "                    # this is a 0 based list of lists\n",
    "                    # access questions_list[q# - 1][column]\n",
    "                line_count += 1\n",
    "            #print(f'Processed {line_count} lines.')\n",
    "            row_count = line_count - 1\n",
    "            # returns lists within lists acces via [list of items][items]\n",
    "            return [cvs_list]\n",
    "    except FileNotFoundError:\n",
    "        print('file not found')\n",
    "        # print message on screen\n",
    "        file_error = True\n",
    "# \\\\\\\\\\\\\\\\\\\\\\\\\\\\\\\\\\\\\\\\\\\\\\\\ CSV FILE READER \\\\\\\\\\\\\\\\\\\\\\\\\\\\\\\\\\\\\\\\\\\\\\\\\\\\\\"
   ]
  },
  {
   "cell_type": "code",
   "execution_count": null,
   "metadata": {},
   "outputs": [],
   "source": [
    "# /////////////////// BREAK UP A LIST INTO A BUNCH OF LISTS /////////////\n",
    "# Split a Python List into Chunks using For Loops\n",
    "our_list = [1, 2, 3, 4, 5, 6, 7, 8, 9, 10, 11]\n",
    "chunked_list = list()\n",
    "chunk_size = 3\n",
    "for i in range(0, len(our_list), chunk_size):\n",
    "    chunked_list.append(our_list[i:i+chunk_size])\n",
    "print(chunked_list)\n",
    "#////////////////////// or this ///////////////////\n",
    "# Split a Python List into Chunks using list comprehensions\n",
    "our_list = [1, 2, 3, 4, 5, 6, 7, 8, 9, 10, 11]\n",
    "chunk_size = 3\n",
    "chunked_list = [our_list[i:i+chunk_size] for i in range(0, len(our_list), chunk_size)]\n",
    "print(chunked_list)"
   ]
  },
  {
   "cell_type": "code",
   "execution_count": null,
   "metadata": {},
   "outputs": [],
   "source": [
    "# run an external script\n",
    "import subprocess\n",
    "subprocess.run([\"myscript.sh\", \"--input_file=input.txt\"])"
   ]
  },
  {
   "cell_type": "code",
   "execution_count": null,
   "metadata": {},
   "outputs": [],
   "source": [
    "#The Popen constructor allows you to pass in additional arguments, \n",
    "# such as shell=True, which will cause the command to run in a sub-shell.\n",
    "# Additionally, you can use stdout=PIPE to have Popen capture the\n",
    "#  returned output instead of simply displaying it on the screen.\n",
    "import subprocess\n",
    "# This is our shell command, executed by Popen.\n",
    "p = subprocess.Popen(\"ls -lh\", stdout=subprocess.PIPE, shell=True)\n",
    "print(p.communicate())"
   ]
  },
  {
   "cell_type": "code",
   "execution_count": null,
   "metadata": {},
   "outputs": [],
   "source": [
    "#We will use Python subprocess module to execute system commands. We can run \n",
    "# shell commands by using subprocess.call() function.\n",
    "import subprocess\n",
    "cmd = \"git --version\"\n",
    "returned_value = subprocess.call(cmd, shell=True)  # returns the exit code in unix\n",
    "print('returned value:', returned_value)\n"
   ]
  },
  {
   "cell_type": "code",
   "execution_count": null,
   "metadata": {},
   "outputs": [],
   "source": [
    "# straight up system command\n",
    "# importing os module \n",
    "import os \n",
    "# Command to execute\n",
    "# Using Windows OS command\n",
    "cmd = 'date'\n",
    "# Using os.system() method\n",
    "os.system(cmd)\n",
    "\n",
    "# run a program\n",
    "# Command to execute\n",
    "# Using Windows OS command\n",
    "cmd = 'notepad'\n",
    "# Using os.system() method\n",
    "os.system(cmd)\n",
    "\n",
    "# get current working dir\n",
    "# Get the current working \n",
    "# directory (CWD) \n",
    "cwd = os.getcwd() \n",
    "# Print the current working \n",
    "# directory (CWD) \n",
    "print(\"Current working directory:\", cwd)   \n"
   ]
  },
  {
   "cell_type": "code",
   "execution_count": null,
   "metadata": {},
   "outputs": [],
   "source": [
    "# 1) This function can have any number of arguments but only one expression, which is evaluated and returned.\n",
    "# 2) One is free to use lambda functions wherever function objects are required.\n",
    "# 3) You need to keep in your knowledge that lambda functions are syntactically restricted to a single expression.\n",
    "# 4) It has various uses in particular fields of programming besides other types of expressions in functions.\n",
    "# Python code to demonstrate\n",
    "# lambda\n",
    "cube = lambda x: x * x * x\n",
    "print(cube(7))\n",
    "\t\n",
    "L = [1, 3, 2, 4, 5, 6]\n",
    "is_even = [x for x in L if x % 2 == 0]\n",
    "\n",
    "print(is_even)\n"
   ]
  }
 ],
 "metadata": {
  "kernelspec": {
   "display_name": "Python 3.8.1 64-bit",
   "language": "python",
   "name": "python3"
  },
  "language_info": {
   "codemirror_mode": {
    "name": "ipython",
    "version": 3
   },
   "file_extension": ".py",
   "mimetype": "text/x-python",
   "name": "python",
   "nbconvert_exporter": "python",
   "pygments_lexer": "ipython3",
   "version": "3.8.1"
  },
  "orig_nbformat": 4,
  "vscode": {
   "interpreter": {
    "hash": "570feb405e2e27c949193ac68f46852414290d515b0ba6e5d90d076ed2284471"
   }
  }
 },
 "nbformat": 4,
 "nbformat_minor": 2
}
