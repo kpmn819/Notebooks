{
 "cells": [
  {
   "cell_type": "code",
   "execution_count": null,
   "metadata": {},
   "outputs": [],
   "source": [
    " #///////////// ENUMERATE EXAMPLE ///////////////////\n",
    "users = [\"Test User\", \"Real User 1\", \"Real User 2\"]\n",
    "for index, user in enumerate(users):\n",
    "    if index == 0:\n",
    "        print(\"Extra verbose output for:\", user)\n",
    "    print(user)\n",
    "# \\\\\\\\\\\\\\\\\\\\\\\\\\ ENUMERATE EXAMPLE \\\\\\\\\\\\\\\\\\\\\\\\\\\\\\\\\\\\"
   ]
  },
  {
   "cell_type": "code",
   "execution_count": null,
   "metadata": {},
   "outputs": [],
   "source": [
    "#///////////////// CSV FILE READER /////////////////\n",
    "def get_file(list_file, col_count):\n",
    "    # now a more generic reader that can take any number of columns\n",
    "    global row_count\n",
    "    global file_error\n",
    "    try:\n",
    "        ''' call with file and get back list of lists'''\n",
    "        with open(list_file) as csv_file:\n",
    "            csv_reader = csv.reader(csv_file, delimiter=',')\n",
    "            rowlist = []\n",
    "            cvs_list = []\n",
    "            line_count = 0\n",
    "            for row in csv_reader:\n",
    "                if line_count > 0:\n",
    "                    # avoids the header line\n",
    "                    rowlist = [row[0]] # initalizes the list first item\n",
    "                    if col_count > 1:\n",
    "                        for x in range(1,col_count):\n",
    "                            rowlist.append(row[x])\n",
    "                        \n",
    "                    cvs_list.append(rowlist)\n",
    "                    # this is a 0 based list of lists\n",
    "                    # access questions_list[q# - 1][column]\n",
    "                line_count += 1\n",
    "            #print(f'Processed {line_count} lines.')\n",
    "            row_count = line_count - 1\n",
    "            # returns lists within lists acces via [list of items][items]\n",
    "            return [cvs_list]\n",
    "    except FileNotFoundError:\n",
    "        print('file not found')\n",
    "        # print message on screen\n",
    "        file_error = True\n",
    "# \\\\\\\\\\\\\\\\\\\\\\\\\\\\\\\\\\\\\\\\\\\\\\\\ CSV FILE READER \\\\\\\\\\\\\\\\\\\\\\\\\\\\\\\\\\\\\\\\\\\\\\\\\\\\\\"
   ]
  },
  {
   "cell_type": "code",
   "execution_count": null,
   "metadata": {},
   "outputs": [],
   "source": [
    "# /////////////////// BREAK UP A LIST INTO A BUNCH OF LISTS /////////////\n",
    "# Split a Python List into Chunks using For Loops\n",
    "our_list = [1, 2, 3, 4, 5, 6, 7, 8, 9, 10, 11]\n",
    "chunked_list = list()\n",
    "chunk_size = 3\n",
    "for i in range(0, len(our_list), chunk_size):\n",
    "    chunked_list.append(our_list[i:i+chunk_size])\n",
    "print(chunked_list)\n",
    "#////////////////////// or this ///////////////////\n",
    "# Split a Python List into Chunks using list comprehensions\n",
    "our_list = [1, 2, 3, 4, 5, 6, 7, 8, 9, 10, 11]\n",
    "chunk_size = 3\n",
    "chunked_list = [our_list[i:i+chunk_size] for i in range(0, len(our_list), chunk_size)]\n",
    "print(chunked_list)"
   ]
  },
  {
   "cell_type": "code",
   "execution_count": null,
   "metadata": {},
   "outputs": [],
   "source": []
  }
 ],
 "metadata": {
  "kernelspec": {
   "display_name": "Python 3.9.2 32-bit",
   "language": "python",
   "name": "python3"
  },
  "language_info": {
   "name": "python",
   "version": "3.9.2"
  },
  "orig_nbformat": 4,
  "vscode": {
   "interpreter": {
    "hash": "e7370f93d1d0cde622a1f8e1c04877d8463912d04d973331ad4851f04de6915a"
   }
  }
 },
 "nbformat": 4,
 "nbformat_minor": 2
}
