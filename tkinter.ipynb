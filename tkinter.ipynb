{
 "cells": [
  {
   "cell_type": "code",
   "execution_count": null,
   "metadata": {},
   "outputs": [],
   "source": [
    "# TKinter"
   ]
  },
  {
   "cell_type": "code",
   "execution_count": null,
   "metadata": {},
   "outputs": [
    {
     "name": "stdout",
     "output_type": "stream",
     "text": [
      "Return key pressed.\n",
      "Return key pressed.\n"
     ]
    }
   ],
   "source": [
    "import tkinter as tk\n",
    "from tkinter import ttk\n",
    "# SHOWING A BUNCH OF OPTIONS AND SYNTAX\n",
    "root = tk.Tk()\n",
    "root.title('Frobozz File Test')\n",
    "# size and place width,height,x,y\n",
    "root.geometry('600x400+50+50')\n",
    "# fixed size or not x,y\n",
    "root.resizable(True,False)\n",
    "# set alpha\n",
    "root.attributes('-alpha', 1.0)\n",
    "# Raise and lower priority of stacking\n",
    "# window.lift(another_window) etc\n",
    "# change icon window.iconbitmap(some ico file)\n",
    "\n",
    "# Keyword widget\n",
    "ttk.Label(root, text='Frobozz is Great').pack()\n",
    "# Dictonary index after widget creation\n",
    "basic_label = ttk.Label(root)\n",
    "basic_label['text'] = 'Frobozz is Nifty'\n",
    "basic_label.pack()\n",
    "# Using config() method with keyword attributes\n",
    "basic_label2 = ttk.Label(root)\n",
    "basic_label2.config(text = 'More Text')\n",
    "basic_label2.pack()\n",
    "# Command binding callback functions\n",
    "# First define a function as a call back\n",
    "def button_clicked():\n",
    "    print('Hit the button')\n",
    "# Now define the widget\n",
    "button = ttk.Button(root, text='Click Here', command=button_clicked)\n",
    "button.pack()\n",
    "# f you want to pass arguments to a callback function, \n",
    "# you can use a lambda expression only works with buttons\n",
    "# triggered by L click and backspace but no return\n",
    "def select(option):\n",
    "    print(option)\n",
    "\n",
    "ttk.Button(root, text='Rock', command=lambda: select('Rock')).pack()\n",
    "ttk.Button(root, text='Paper',command=lambda: select('Paper')).pack()\n",
    "ttk.Button(root, text='Scissors', command=lambda: select('Scissors')).pack()\n",
    "# Even Binding widget.bind(event, handler, add=None)\n",
    "# instead of None can add more actions with +\n",
    "def return_pressed(event):\n",
    "    print('Return key pressed.')\n",
    "\n",
    "btn = ttk.Button(root, text='Save')\n",
    "btn.bind('<Return>', return_pressed)\n",
    "btn.focus()\n",
    "btn.pack(expand=True)\n",
    "# Most used event types\n",
    "# Activate\tThe state option of a widget changes from inactive to active.\n",
    "# ButtonRelease\tOne mouse button is released\n",
    "# Configure\tThe size of the widget is changed\n",
    "# Deactivate\tThe state option of a widget changes from active to inactive.\n",
    "# Destroy\tA widget is being destroyed.\n",
    "# Enter\tThe mouse pointer is moved into a visible part of a widget.\n",
    "# FocusIn FocusOut The input focus was moved in a widget.\n",
    "# KeyPress KeyRelease\n",
    "# Leave mouse pointer out of widget\n",
    "#Unmap\tA widget is being unmapped and is no longer visible, \n",
    "# for example when calling the grid_remove() method on the widget.\n",
    "# https://www.pythontutorial.net/tkinter/tkinter-label/\n",
    "\n",
    "root.mainloop()"
   ]
  }
 ],
 "metadata": {
  "kernelspec": {
   "display_name": "Python 3.8.1 64-bit",
   "language": "python",
   "name": "python3"
  },
  "language_info": {
   "name": "python",
   "version": "3.8.1"
  },
  "orig_nbformat": 4,
  "vscode": {
   "interpreter": {
    "hash": "570feb405e2e27c949193ac68f46852414290d515b0ba6e5d90d076ed2284471"
   }
  }
 },
 "nbformat": 4,
 "nbformat_minor": 2
}
