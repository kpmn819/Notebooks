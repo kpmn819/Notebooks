{
 "cells": [
  {
   "cell_type": "code",
   "execution_count": null,
   "metadata": {},
   "outputs": [],
   "source": [
    "#======== class example ==========\n",
    "class Something():\n",
    "\tdef __init__(self, somevar):\n",
    "\t\tself.somevar = somevar\n",
    "\tdef print_added(self, another):\n",
    "\t\tprint(another)\n",
    "\n",
    "\n",
    "zow = Something('42')\n",
    "print(zow.somevar)\n",
    "zow.another = '99'\n",
    "print(zow.another)\n",
    "Something.print_added(zow,zow.another)\n",
    "#\\\\\\\\\\\\\\\\\\ class example \\\\\\\\\\\\\\\\\\\\\\\\\\\\\\"
   ]
  },
  {
   "cell_type": "code",
   "execution_count": null,
   "metadata": {},
   "outputs": [],
   "source": [
    "# ///////////// CREATE CLASS INSTANCES FROM LIST //////////\n",
    "class Button():\n",
    " def __init__(self,in_port, in_stat, out_port, out_stat):\n",
    "        self.in_port = in_port\n",
    "        self.in_stat = in_stat\n",
    "        self.out_port = out_port\n",
    "        self.out_stat = out_stat\n",
    "\n",
    "button_list = [[1, False, 3, True], [4, True, 6, True] ,[7, False, 9, True]]\n",
    "\n",
    "button_list = [Button(x, y, z, q) for x, y, z, q in button_list]\n",
    "button_list[0].in_port = 99\n",
    "print(button_list[0].in_port)\n",
    "#\\\\\\\\\\\\\\\\\\\\\\\\\\ CLASS INSTANCES \\\\\\\\\\\\\\\\\\\\\\\\\\\\\\\\\\\\\\"
   ]
  },
  {
   "cell_type": "code",
   "execution_count": null,
   "metadata": {},
   "outputs": [],
   "source": [
    "#///////////// CREATE GPIO PORT CLASS ///////////////\n",
    "class Port():\n",
    "    def __init__(self, p_num, input, state= None):\n",
    "        self.p_num = p_num\n",
    "        self.input = input\n",
    "  \n",
    "        # need to setup gpio port here\n",
    "        if self.input:\n",
    "            if os.name != 'nt':\n",
    "                GPIO.setup(p_num, GPIO.IN, pull_up_down = GPIO.PUD_UP)\n",
    "            else:\n",
    "                pass\n",
    "        else:\n",
    "            if os.name != 'nt':\n",
    "                GPIO.setup(p_num, GPIO.OUT)\n",
    "            else:\n",
    "                pass\n",
    "    def change_state(self):\n",
    "        if not self.input:\n",
    "            if self.state:\n",
    "                self.state = False\n",
    "            else:\n",
    "                self.state = True\n",
    "        else:\n",
    "            pass\n",
    "    def out_high(self):\n",
    "        if not self.input:\n",
    "            self.state = True\n",
    "        else:\n",
    "            pass\n",
    "    def out_low(self):\n",
    "        if not self.input:\n",
    "            self.state = False\n",
    "        else:\n",
    "            pass\n",
    "    def read_state(self):\n",
    "        if self.input:\n",
    "            # read the port\n",
    "            return self.state\n",
    "        else:\n",
    "            pass\n",
    "    def change_config(config):\n",
    "        if config == 'free_and_pay':\n",
    "            pass\n",
    "        if config == 'five_on':\n",
    "            pass\n",
    "        if config == 'three_on':\n",
    "            pass\n"
   ]
  }
 ],
 "metadata": {
  "kernelspec": {
   "display_name": "Python 3.8.1 64-bit",
   "language": "python",
   "name": "python3"
  },
  "language_info": {
   "name": "python",
   "version": "3.8.1"
  },
  "orig_nbformat": 4,
  "vscode": {
   "interpreter": {
    "hash": "570feb405e2e27c949193ac68f46852414290d515b0ba6e5d90d076ed2284471"
   }
  }
 },
 "nbformat": 4,
 "nbformat_minor": 2
}
