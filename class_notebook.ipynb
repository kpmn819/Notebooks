{
 "cells": [
  {
   "cell_type": "markdown",
   "metadata": {},
   "source": [
    "# Basic Class"
   ]
  },
  {
   "cell_type": "code",
   "execution_count": null,
   "metadata": {},
   "outputs": [],
   "source": [
    "#======== class example ==========\n",
    "class Something():\n",
    "\tdef __init__(self, somevar):\n",
    "\t\tself.somevar = somevar\n",
    "\tdef print_added(self, another):\n",
    "\t\tprint(another)\n",
    "\n",
    "\n",
    "zow = Something('42')\n",
    "print(zow.somevar)\n",
    "zow.another = '99'\n",
    "print(zow.another)\n",
    "Something.print_added(zow,zow.another)\n",
    "#\\\\\\\\\\\\\\\\\\ class example \\\\\\\\\\\\\\\\\\\\\\\\\\\\\\"
   ]
  },
  {
   "cell_type": "code",
   "execution_count": null,
   "metadata": {},
   "outputs": [],
   "source": []
  },
  {
   "cell_type": "markdown",
   "metadata": {},
   "source": [
    "# Class instance from a list"
   ]
  },
  {
   "cell_type": "code",
   "execution_count": null,
   "metadata": {},
   "outputs": [],
   "source": [
    "# ///////////// CREATE CLASS INSTANCES FROM LIST //////////\n",
    "class Button():\n",
    " def __init__(self,in_port, in_stat, out_port, out_stat):\n",
    "        self.in_port = in_port\n",
    "        self.in_stat = in_stat\n",
    "        self.out_port = out_port\n",
    "        self.out_stat = out_stat\n",
    "\n",
    "button_list = [[1, False, 3, True], [4, True, 6, True] ,[7, False, 9, True]]\n",
    "\n",
    "button_list = [Button(x, y, z, q) for x, y, z, q in button_list]\n",
    "button_list[0].in_port = 99\n",
    "print(button_list[0].in_port)\n",
    "#\\\\\\\\\\\\\\\\\\\\\\\\\\ CLASS INSTANCES \\\\\\\\\\\\\\\\\\\\\\\\\\\\\\\\\\\\\\"
   ]
  },
  {
   "cell_type": "markdown",
   "metadata": {},
   "source": [
    "# GPIO Port Class"
   ]
  },
  {
   "cell_type": "code",
   "execution_count": null,
   "metadata": {},
   "outputs": [],
   "source": [
    "#///////////// CREATE GPIO PORT CLASS ///////////////\n",
    "class Port():\n",
    "    def __init__(self, p_num, input, state= None):\n",
    "        self.p_num = p_num\n",
    "        self.input = input\n",
    "  \n",
    "        # need to setup gpio port here\n",
    "        if self.input:\n",
    "            if os.name != 'nt':\n",
    "                GPIO.setup(p_num, GPIO.IN, pull_up_down = GPIO.PUD_UP)\n",
    "            else:\n",
    "                pass\n",
    "        else:\n",
    "            if os.name != 'nt':\n",
    "                GPIO.setup(p_num, GPIO.OUT)\n",
    "            else:\n",
    "                pass\n",
    "    def change_state(self):\n",
    "        if not self.input:\n",
    "            if self.state:\n",
    "                self.state = False\n",
    "            else:\n",
    "                self.state = True\n",
    "        else:\n",
    "            pass\n",
    "    def out_high(self):\n",
    "        if not self.input:\n",
    "            self.state = True\n",
    "        else:\n",
    "            pass\n",
    "    def out_low(self):\n",
    "        if not self.input:\n",
    "            self.state = False\n",
    "        else:\n",
    "            pass\n",
    "    def read_state(self):\n",
    "        if self.input:\n",
    "            # read the port\n",
    "            return self.state\n",
    "        else:\n",
    "            pass\n",
    "    def change_config(config):\n",
    "        if config == 'free_and_pay':\n",
    "            pass\n",
    "        if config == 'five_on':\n",
    "            pass\n",
    "        if config == 'three_on':\n",
    "            pass\n"
   ]
  },
  {
   "cell_type": "markdown",
   "metadata": {},
   "source": [
    "# Setters"
   ]
  },
  {
   "cell_type": "code",
   "execution_count": null,
   "metadata": {},
   "outputs": [],
   "source": [
    "class Vehicle:\n",
    "    def __init__(self,driver_firstname,driver_lastname):\n",
    "        self.fdriver = driver_firstname\n",
    "        self.ldriver = driver_lastname\n",
    "    # allows changing the first name and updating email    \n",
    "    @property  \n",
    "    def email(self):\n",
    "        return self.fdriver + '.' + self.ldriver + '@uber.com'\n",
    "\n",
    "veh_1 = Vehicle(\"Sandy\", \"Stewart\")\n",
    "veh_1.fdriver = 'Tom'\n",
    "veh_1.email\n",
    "'Tom.Stewart@uber.com'"
   ]
  },
  {
   "cell_type": "markdown",
   "metadata": {},
   "source": [
    "#How to update first and last name automatically by changing email address"
   ]
  },
  {
   "cell_type": "code",
   "execution_count": null,
   "metadata": {},
   "outputs": [],
   "source": [
    "class Vehicle:\n",
    "    def __init__(self,driver_firstname,driver_lastname):\n",
    "        self.fdriver = driver_firstname\n",
    "        self.ldriver = driver_lastname\n",
    "\n",
    "    def __str__(self):\n",
    "        return \"Driver First : \" + str(self.fdriver) + \" ; \" + \"Driver Last : \" + str(self.ldriver)        \n",
    "    @property\n",
    "    def email(self):\n",
    "        return self.fdriver + '.' + self.ldriver + '@uber.com'\n",
    "\n",
    "    @email.setter\n",
    "    def email(self, address):\n",
    "        first = address[:address.find('.')]\n",
    "        last  = address[address.find('.')+1:address.find('@')]\n",
    "        self.fdriver = first\n",
    "        self.ldriver = last\n",
    "\n",
    "\n",
    "veh_1 = Vehicle(\"Sandy\", \"Stewart\")\n",
    "print(veh_1)\n",
    "veh_1.email = 'deep.bhalla@uber.com'\n",
    "veh_1.fdriver\n",
    "'deep'\n",
    "\n",
    "veh_1.ldriver\n",
    "'bhalla'"
   ]
  },
  {
   "cell_type": "markdown",
   "metadata": {},
   "source": [
    "# More Setters and Getters"
   ]
  },
  {
   "cell_type": "code",
   "execution_count": 23,
   "metadata": {},
   "outputs": [
    {
     "name": "stdout",
     "output_type": "stream",
     "text": [
      "House 1 is: 50000.0\n",
      "House 2 is: 99.99\n"
     ]
    }
   ],
   "source": [
    "class House:\n",
    "#You can define three methods for a property:\n",
    "# A getter - to access the value of the attribute.\n",
    "# A setter - to set the value of the attribute.\n",
    "# A deleter - to delete the instance attribute.\n",
    "\n",
    "\tdef __init__(self, price):\n",
    "\t\tself._price = price\n",
    "    # Price attribute is now considered \"protected\" because we added a \n",
    "    # leading underscore to its name in self._price\n",
    "    # By convention it should not be accessed or modified directly outside of the class. \n",
    "    # It should only be accessed through intermediaries (getters and setters) if they are available\n",
    "\n",
    "\t# This is the getter\n",
    "\t@property\n",
    "\tdef price(self):\n",
    "\t\treturn self._price # _price is how it is referenced inside of class\n",
    "\t\t\n",
    "\t# Setter\n",
    "\t# takes over price setting activities validating the input\n",
    "\t@price.setter\n",
    "\tdef price(self, new_price):\n",
    "\t\tif new_price > 0 and isinstance(new_price, float):\n",
    "\t\t\tself._price = new_price\n",
    "\t\telse:\n",
    "\t\t\tprint(\"Please enter a valid price\")\n",
    "\n",
    "\t@price.deleter\n",
    "\tdef price(self):\n",
    "\t\tdel self._price\n",
    "# useing the getter\n",
    "house1 = House(50000.0) # Create instance\n",
    "print('House 1 is: '+ str(house1.price))   \n",
    "# useing the setter\n",
    "house2 = House(50000.0)  # Create instance\n",
    "house2.price = 99.99   # Update value\n",
    "print('House 2 is: '+ str(house2.price))   \n"
   ]
  },
  {
   "cell_type": "code",
   "execution_count": 21,
   "metadata": {},
   "outputs": [
    {
     "name": "stdout",
     "output_type": "stream",
     "text": [
      "setter method called\n",
      "getter method called\n",
      "22\n"
     ]
    }
   ],
   "source": [
    "# Python program showing the use of\n",
    "# @property another example\n",
    "\n",
    "class Geeks:\n",
    "\tdef __init__(self):\n",
    "\t\tself._age = 0\n",
    "\t\n",
    "\t# using property decorator\n",
    "\t# a getter function\n",
    "\t@property\n",
    "\tdef age(self):\n",
    "\t\tprint(\"getter method called\")\n",
    "\t\treturn self._age\n",
    "\t\n",
    "\t# a setter function\n",
    "\t@age.setter\n",
    "\tdef age(self, a):\n",
    "\t\tif(a < 18):\n",
    "\t\t\traise ValueError(\"Sorry you age is below eligibility criteria\")\n",
    "\t\tprint(\"setter method called\")\n",
    "\t\tself._age = a\n",
    "\n",
    "mark = Geeks()\n",
    "\n",
    "mark.age = 22\n",
    "\n",
    "print(mark.age)\n"
   ]
  },
  {
   "cell_type": "markdown",
   "metadata": {},
   "source": [
    "# Validation"
   ]
  },
  {
   "cell_type": "code",
   "execution_count": 7,
   "metadata": {},
   "outputs": [
    {
     "data": {
      "text/plain": [
       "10"
      ]
     },
     "execution_count": 7,
     "metadata": {},
     "output_type": "execute_result"
    }
   ],
   "source": [
    "class donation:\n",
    "    def __init__(self,amount):\n",
    "        self.amount = amount\n",
    "        \n",
    "    @property\n",
    "    def amount(self):\n",
    "        return self.__amount\n",
    "\n",
    "    @amount.setter\n",
    "    def amount(self, amount):\n",
    "        if amount < 10:\n",
    "            self.__amount = 10\n",
    "        elif amount > 1000000:\n",
    "            self.__amount = 1000000\n",
    "        else:\n",
    "            self.__amount = amount\n",
    "\n",
    "\n",
    "charity = donation(5)\n",
    "charity.amount"
   ]
  },
  {
   "cell_type": "markdown",
   "metadata": {},
   "source": [
    "# Import a class from another module"
   ]
  },
  {
   "cell_type": "code",
   "execution_count": null,
   "metadata": {},
   "outputs": [],
   "source": [
    "import os\n",
    "os.chdir(\"C:/Users/DELL/Desktop/\")\n",
    "import Mymodule\n",
    "\n",
    "#Cab class in Mymodule.py\n",
    "firstcab  = Mymodule.Cab(\"Ramesh\", 80, 1200)\n",
    "\n",
    "#driver attribute in cab class\n",
    "firstcab.driver\n",
    "\n",
    "#rateperkm instance method in Mymodule2.py\n",
    "firstcab.rateperkm()\n",
    "\n",
    "#noofcabs classmethod in Mymodule2.py\n",
    "Mymodule.Cab.noofcabs()"
   ]
  },
  {
   "cell_type": "code",
   "execution_count": null,
   "metadata": {},
   "outputs": [],
   "source": [
    "# or you can import into local namespace \n",
    "from Mymodule import *\n",
    "firstcab  = Cab(\"Sandy\", 80, ['Delhi', 'Noida'], 1200, 3)"
   ]
  },
  {
   "cell_type": "markdown",
   "metadata": {},
   "source": [
    "# Class and Static Methods"
   ]
  },
  {
   "cell_type": "code",
   "execution_count": 13,
   "metadata": {},
   "outputs": [
    {
     "name": "stdout",
     "output_type": "stream",
     "text": [
      "21\n",
      "Tom\n",
      "26\n",
      "Harry\n",
      "True\n"
     ]
    }
   ],
   "source": [
    "# Python program to demonstrate\n",
    "# use of class method and static method.\n",
    "from datetime import date\n",
    "\n",
    "\n",
    "class Person:\n",
    "\tdef __init__(self, name, age):\n",
    "\t\tself.name = name\n",
    "\t\tself.age = age\n",
    "\n",
    "\t# a class method to create a Person object by birth year.\n",
    "\t@classmethod\n",
    "\tdef fromBirthYear(cls, name, year):\n",
    "\t\treturn cls(name, date.today().year - year)\n",
    "\n",
    "\t# a static method to check if a Person is adult or not.\n",
    "\t@staticmethod\n",
    "\tdef isAdult(age):\n",
    "\t\treturn age > 18\n",
    "\n",
    "\n",
    "person1 = Person('Tom', 21)\n",
    "person2 = Person.fromBirthYear('Harry', 1996)\n",
    "\n",
    "print(person1.age)\n",
    "print(person1.name)\n",
    "print(person2.age)\n",
    "print(person2.name)\n",
    "\n",
    "# print the result\n",
    "print(Person.isAdult(22))\n"
   ]
  }
 ],
 "metadata": {
  "kernelspec": {
   "display_name": "Python 3.8.1 64-bit",
   "language": "python",
   "name": "python3"
  },
  "language_info": {
   "codemirror_mode": {
    "name": "ipython",
    "version": 3
   },
   "file_extension": ".py",
   "mimetype": "text/x-python",
   "name": "python",
   "nbconvert_exporter": "python",
   "pygments_lexer": "ipython3",
   "version": "3.8.1"
  },
  "orig_nbformat": 4,
  "vscode": {
   "interpreter": {
    "hash": "570feb405e2e27c949193ac68f46852414290d515b0ba6e5d90d076ed2284471"
   }
  }
 },
 "nbformat": 4,
 "nbformat_minor": 2
}
