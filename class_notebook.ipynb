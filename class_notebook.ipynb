{
 "cells": [
  {
   "cell_type": "code",
   "execution_count": null,
   "metadata": {},
   "outputs": [],
   "source": [
    "#======== class example ==========\n",
    "class Something():\n",
    "\tdef __init__(self, somevar):\n",
    "\t\tself.somevar = somevar\n",
    "\tdef print_added(self, another):\n",
    "\t\tprint(another)\n",
    "\n",
    "\n",
    "zow = Something('42')\n",
    "print(zow.somevar)\n",
    "zow.another = '99'\n",
    "print(zow.another)\n",
    "Something.print_added(zow,zow.another)\n",
    "#\\\\\\\\\\\\\\\\\\ class example \\\\\\\\\\\\\\\\\\\\\\\\\\\\\\"
   ]
  },
  {
   "cell_type": "code",
   "execution_count": null,
   "metadata": {},
   "outputs": [],
   "source": [
    "# ///////////// CREATE CLASS INSTANCES FROM LIST //////////\n",
    "class Button():\n",
    " def __init__(self,in_port, in_stat, out_port, out_stat):\n",
    "        self.in_port = in_port\n",
    "        self.in_stat = in_stat\n",
    "        self.out_port = out_port\n",
    "        self.out_stat = out_stat\n",
    "\n",
    "button_list = [[1, False, 3, True], [4, True, 6, True] ,[7, False, 9, True]]\n",
    "\n",
    "button_list = [Button(x, y, z, q) for x, y, z, q in button_list]\n",
    "button_list[0].in_port = 99\n",
    "print(button_list[0].in_port)\n",
    "#\\\\\\\\\\\\\\\\\\\\\\\\\\ CLASS INSTANCES \\\\\\\\\\\\\\\\\\\\\\\\\\\\\\\\\\\\\\"
   ]
  },
  {
   "cell_type": "code",
   "execution_count": null,
   "metadata": {},
   "outputs": [],
   "source": []
  }
 ],
 "metadata": {
  "kernelspec": {
   "display_name": "Python 3.9.2 32-bit",
   "language": "python",
   "name": "python3"
  },
  "language_info": {
   "name": "python",
   "version": "3.9.2"
  },
  "orig_nbformat": 4,
  "vscode": {
   "interpreter": {
    "hash": "e7370f93d1d0cde622a1f8e1c04877d8463912d04d973331ad4851f04de6915a"
   }
  }
 },
 "nbformat": 4,
 "nbformat_minor": 2
}
