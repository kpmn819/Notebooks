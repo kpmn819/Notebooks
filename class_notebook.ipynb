{
 "cells": [
  {
   "cell_type": "markdown",
   "metadata": {},
   "source": [
    "# Basic Class"
   ]
  },
  {
   "cell_type": "code",
   "execution_count": null,
   "metadata": {},
   "outputs": [],
   "source": [
    "#======== class example ==========\n",
    "class Something():\n",
    "\tdef __init__(self, somevar):\n",
    "\t\tself.somevar = somevar\n",
    "\tdef print_added(self, another):\n",
    "\t\tprint(another)\n",
    "\n",
    "\n",
    "zow = Something('42')\n",
    "print(zow.somevar)\n",
    "zow.another = '99'\n",
    "print(zow.another)\n",
    "Something.print_added(zow,zow.another)\n",
    "#\\\\\\\\\\\\\\\\\\ class example \\\\\\\\\\\\\\\\\\\\\\\\\\\\\\"
   ]
  },
  {
   "cell_type": "code",
   "execution_count": null,
   "metadata": {},
   "outputs": [],
   "source": []
  },
  {
   "cell_type": "markdown",
   "metadata": {},
   "source": [
    "# Class instance from a list"
   ]
  },
  {
   "cell_type": "code",
   "execution_count": null,
   "metadata": {},
   "outputs": [],
   "source": [
    "# ///////////// CREATE CLASS INSTANCES FROM LIST //////////\n",
    "class Button():\n",
    " def __init__(self,in_port, in_stat, out_port, out_stat):\n",
    "        self.in_port = in_port\n",
    "        self.in_stat = in_stat\n",
    "        self.out_port = out_port\n",
    "        self.out_stat = out_stat\n",
    "\n",
    "button_list = [[1, False, 3, True], [4, True, 6, True] ,[7, False, 9, True]]\n",
    "\n",
    "button_list = [Button(x, y, z, q) for x, y, z, q in button_list]\n",
    "button_list[0].in_port = 99\n",
    "print(button_list[0].in_port)\n",
    "#\\\\\\\\\\\\\\\\\\\\\\\\\\ CLASS INSTANCES \\\\\\\\\\\\\\\\\\\\\\\\\\\\\\\\\\\\\\"
   ]
  },
  {
   "cell_type": "markdown",
   "metadata": {},
   "source": [
    "# GPIO Port Class"
   ]
  },
  {
   "cell_type": "code",
   "execution_count": null,
   "metadata": {},
   "outputs": [],
   "source": [
    "#///////////// CREATE GPIO PORT CLASS ///////////////\n",
    "class Port():\n",
    "    def __init__(self, p_num, input, state= None):\n",
    "        self.p_num = p_num\n",
    "        self.input = input\n",
    "  \n",
    "        # need to setup gpio port here\n",
    "        if self.input:\n",
    "            if os.name != 'nt':\n",
    "                GPIO.setup(p_num, GPIO.IN, pull_up_down = GPIO.PUD_UP)\n",
    "            else:\n",
    "                pass\n",
    "        else:\n",
    "            if os.name != 'nt':\n",
    "                GPIO.setup(p_num, GPIO.OUT)\n",
    "            else:\n",
    "                pass\n",
    "    def change_state(self):\n",
    "        if not self.input:\n",
    "            if self.state:\n",
    "                self.state = False\n",
    "            else:\n",
    "                self.state = True\n",
    "        else:\n",
    "            pass\n",
    "    def out_high(self):\n",
    "        if not self.input:\n",
    "            self.state = True\n",
    "        else:\n",
    "            pass\n",
    "    def out_low(self):\n",
    "        if not self.input:\n",
    "            self.state = False\n",
    "        else:\n",
    "            pass\n",
    "    def read_state(self):\n",
    "        if self.input:\n",
    "            # read the port\n",
    "            return self.state\n",
    "        else:\n",
    "            pass\n",
    "    def change_config(config):\n",
    "        if config == 'free_and_pay':\n",
    "            pass\n",
    "        if config == 'five_on':\n",
    "            pass\n",
    "        if config == 'three_on':\n",
    "            pass\n"
   ]
  },
  {
   "cell_type": "markdown",
   "metadata": {},
   "source": [
    "# Setters"
   ]
  },
  {
   "cell_type": "code",
   "execution_count": null,
   "metadata": {},
   "outputs": [],
   "source": [
    "class Vehicle:\n",
    "    def __init__(self,driver_firstname,driver_lastname):\n",
    "        self.fdriver = driver_firstname\n",
    "        self.ldriver = driver_lastname\n",
    "    # allows changing the first name and updating email    \n",
    "    @property  \n",
    "    def email(self):\n",
    "        return self.fdriver + '.' + self.ldriver + '@uber.com'\n",
    "\n",
    "veh_1 = Vehicle(\"Sandy\", \"Stewart\")\n",
    "veh_1.fdriver = 'Tom'\n",
    "veh_1.email\n",
    "'Tom.Stewart@uber.com'"
   ]
  },
  {
   "cell_type": "markdown",
   "metadata": {},
   "source": [
    "#How to update first and last name automatically by changing email address"
   ]
  },
  {
   "cell_type": "code",
   "execution_count": 6,
   "metadata": {},
   "outputs": [
    {
     "name": "stdout",
     "output_type": "stream",
     "text": [
      "Driver First : Sandy ; Driver Last : Stewart\n"
     ]
    },
    {
     "data": {
      "text/plain": [
       "'bhalla'"
      ]
     },
     "execution_count": 6,
     "metadata": {},
     "output_type": "execute_result"
    }
   ],
   "source": [
    "class Vehicle:\n",
    "    def __init__(self,driver_firstname,driver_lastname):\n",
    "        self.fdriver = driver_firstname\n",
    "        self.ldriver = driver_lastname\n",
    "\n",
    "    def __str__(self):\n",
    "        return \"Driver First : \" + str(self.fdriver) + \" ; \" + \"Driver Last : \" + str(self.ldriver)        \n",
    "    @property\n",
    "    def email(self):\n",
    "        return self.fdriver + '.' + self.ldriver + '@uber.com'\n",
    "\n",
    "    @email.setter\n",
    "    def email(self, address):\n",
    "        first = address[:address.find('.')]\n",
    "        last  = address[address.find('.')+1:address.find('@')]\n",
    "        self.fdriver = first\n",
    "        self.ldriver = last\n",
    "\n",
    "\n",
    "veh_1 = Vehicle(\"Sandy\", \"Stewart\")\n",
    "print(veh_1)\n",
    "veh_1.email = 'deep.bhalla@uber.com'\n",
    "veh_1.fdriver\n",
    "'deep'\n",
    "\n",
    "veh_1.ldriver\n",
    "'bhalla'"
   ]
  },
  {
   "cell_type": "markdown",
   "metadata": {},
   "source": [
    "# Validation"
   ]
  },
  {
   "cell_type": "code",
   "execution_count": 7,
   "metadata": {},
   "outputs": [
    {
     "data": {
      "text/plain": [
       "10"
      ]
     },
     "execution_count": 7,
     "metadata": {},
     "output_type": "execute_result"
    }
   ],
   "source": [
    "class donation:\n",
    "    def __init__(self,amount):\n",
    "        self.amount = amount\n",
    "        \n",
    "    @property\n",
    "    def amount(self):\n",
    "        return self.__amount\n",
    "\n",
    "    @amount.setter\n",
    "    def amount(self, amount):\n",
    "        if amount < 10:\n",
    "            self.__amount = 10\n",
    "        elif amount > 1000000:\n",
    "            self.__amount = 1000000\n",
    "        else:\n",
    "            self.__amount = amount\n",
    "\n",
    "\n",
    "charity = donation(5)\n",
    "charity.amount"
   ]
  },
  {
   "cell_type": "markdown",
   "metadata": {},
   "source": [
    "# Import a class from another module"
   ]
  },
  {
   "cell_type": "code",
   "execution_count": null,
   "metadata": {},
   "outputs": [],
   "source": [
    "import os\n",
    "os.chdir(\"C:/Users/DELL/Desktop/\")\n",
    "import Mymodule\n",
    "\n",
    "#Cab class in Mymodule.py\n",
    "firstcab  = Mymodule.Cab(\"Ramesh\", 80, 1200)\n",
    "\n",
    "#driver attribute in cab class\n",
    "firstcab.driver\n",
    "\n",
    "#rateperkm instance method in Mymodule2.py\n",
    "firstcab.rateperkm()\n",
    "\n",
    "#noofcabs classmethod in Mymodule2.py\n",
    "Mymodule.Cab.noofcabs()"
   ]
  },
  {
   "cell_type": "code",
   "execution_count": null,
   "metadata": {},
   "outputs": [],
   "source": [
    "# or you can import into local namespace \n",
    "from Mymodule import *\n",
    "firstcab  = Cab(\"Sandy\", 80, ['Delhi', 'Noida'], 1200, 3)"
   ]
  },
  {
   "cell_type": "markdown",
   "metadata": {},
   "source": [
    "# Class and Static Methods"
   ]
  },
  {
   "cell_type": "code",
   "execution_count": 13,
   "metadata": {},
   "outputs": [
    {
     "name": "stdout",
     "output_type": "stream",
     "text": [
      "21\n",
      "Tom\n",
      "26\n",
      "Harry\n",
      "True\n"
     ]
    }
   ],
   "source": [
    "# Python program to demonstrate\n",
    "# use of class method and static method.\n",
    "from datetime import date\n",
    "\n",
    "\n",
    "class Person:\n",
    "\tdef __init__(self, name, age):\n",
    "\t\tself.name = name\n",
    "\t\tself.age = age\n",
    "\n",
    "\t# a class method to create a Person object by birth year.\n",
    "\t@classmethod\n",
    "\tdef fromBirthYear(cls, name, year):\n",
    "\t\treturn cls(name, date.today().year - year)\n",
    "\n",
    "\t# a static method to check if a Person is adult or not.\n",
    "\t@staticmethod\n",
    "\tdef isAdult(age):\n",
    "\t\treturn age > 18\n",
    "\n",
    "\n",
    "person1 = Person('Tom', 21)\n",
    "person2 = Person.fromBirthYear('Harry', 1996)\n",
    "\n",
    "print(person1.age)\n",
    "print(person1.name)\n",
    "print(person2.age)\n",
    "print(person2.name)\n",
    "\n",
    "# print the result\n",
    "print(Person.isAdult(22))\n"
   ]
  }
 ],
 "metadata": {
  "kernelspec": {
   "display_name": "Python 3.8.1 64-bit",
   "language": "python",
   "name": "python3"
  },
  "language_info": {
   "codemirror_mode": {
    "name": "ipython",
    "version": 3
   },
   "file_extension": ".py",
   "mimetype": "text/x-python",
   "name": "python",
   "nbconvert_exporter": "python",
   "pygments_lexer": "ipython3",
   "version": "3.8.1"
  },
  "orig_nbformat": 4,
  "vscode": {
   "interpreter": {
    "hash": "570feb405e2e27c949193ac68f46852414290d515b0ba6e5d90d076ed2284471"
   }
  }
 },
 "nbformat": 4,
 "nbformat_minor": 2
}
